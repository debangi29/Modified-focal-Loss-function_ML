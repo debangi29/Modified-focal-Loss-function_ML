{
  "nbformat": 4,
  "nbformat_minor": 0,
  "metadata": {
    "colab": {
      "provenance": []
    },
    "kernelspec": {
      "name": "python3",
      "display_name": "Python 3"
    },
    "language_info": {
      "name": "python"
    }
  },
  "cells": [
    {
      "cell_type": "code",
      "source": [
        "pip install opendatasets"
      ],
      "metadata": {
        "colab": {
          "base_uri": "https://localhost:8080/"
        },
        "id": "35QSP63GWCfw",
        "outputId": "2b6924c1-249d-4738-9c01-81f2b83b97fe"
      },
      "execution_count": null,
      "outputs": [
        {
          "output_type": "stream",
          "name": "stdout",
          "text": [
            "Collecting opendatasets\n",
            "  Downloading opendatasets-0.1.22-py3-none-any.whl (15 kB)\n",
            "Requirement already satisfied: tqdm in /usr/local/lib/python3.10/dist-packages (from opendatasets) (4.66.1)\n",
            "Requirement already satisfied: kaggle in /usr/local/lib/python3.10/dist-packages (from opendatasets) (1.5.16)\n",
            "Requirement already satisfied: click in /usr/local/lib/python3.10/dist-packages (from opendatasets) (8.1.7)\n",
            "Requirement already satisfied: six>=1.10 in /usr/local/lib/python3.10/dist-packages (from kaggle->opendatasets) (1.16.0)\n",
            "Requirement already satisfied: certifi in /usr/local/lib/python3.10/dist-packages (from kaggle->opendatasets) (2023.7.22)\n",
            "Requirement already satisfied: python-dateutil in /usr/local/lib/python3.10/dist-packages (from kaggle->opendatasets) (2.8.2)\n",
            "Requirement already satisfied: requests in /usr/local/lib/python3.10/dist-packages (from kaggle->opendatasets) (2.31.0)\n",
            "Requirement already satisfied: python-slugify in /usr/local/lib/python3.10/dist-packages (from kaggle->opendatasets) (8.0.1)\n",
            "Requirement already satisfied: urllib3 in /usr/local/lib/python3.10/dist-packages (from kaggle->opendatasets) (2.0.7)\n",
            "Requirement already satisfied: bleach in /usr/local/lib/python3.10/dist-packages (from kaggle->opendatasets) (6.1.0)\n",
            "Requirement already satisfied: webencodings in /usr/local/lib/python3.10/dist-packages (from bleach->kaggle->opendatasets) (0.5.1)\n",
            "Requirement already satisfied: text-unidecode>=1.3 in /usr/local/lib/python3.10/dist-packages (from python-slugify->kaggle->opendatasets) (1.3)\n",
            "Requirement already satisfied: charset-normalizer<4,>=2 in /usr/local/lib/python3.10/dist-packages (from requests->kaggle->opendatasets) (3.3.2)\n",
            "Requirement already satisfied: idna<4,>=2.5 in /usr/local/lib/python3.10/dist-packages (from requests->kaggle->opendatasets) (3.4)\n",
            "Installing collected packages: opendatasets\n",
            "Successfully installed opendatasets-0.1.22\n"
          ]
        }
      ]
    },
    {
      "cell_type": "code",
      "source": [
        "pip install pandas"
      ],
      "metadata": {
        "colab": {
          "base_uri": "https://localhost:8080/"
        },
        "id": "BTagOAJGWei2",
        "outputId": "88ccab74-142e-4991-d5a3-8260ea10148f"
      },
      "execution_count": null,
      "outputs": [
        {
          "output_type": "stream",
          "name": "stdout",
          "text": [
            "Requirement already satisfied: pandas in /usr/local/lib/python3.10/dist-packages (1.5.3)\n",
            "Requirement already satisfied: python-dateutil>=2.8.1 in /usr/local/lib/python3.10/dist-packages (from pandas) (2.8.2)\n",
            "Requirement already satisfied: pytz>=2020.1 in /usr/local/lib/python3.10/dist-packages (from pandas) (2023.3.post1)\n",
            "Requirement already satisfied: numpy>=1.21.0 in /usr/local/lib/python3.10/dist-packages (from pandas) (1.23.5)\n",
            "Requirement already satisfied: six>=1.5 in /usr/local/lib/python3.10/dist-packages (from python-dateutil>=2.8.1->pandas) (1.16.0)\n"
          ]
        }
      ]
    },
    {
      "cell_type": "code",
      "source": [
        "import numpy as np"
      ],
      "metadata": {
        "id": "M4rXORAqYh_K"
      },
      "execution_count": null,
      "outputs": []
    },
    {
      "cell_type": "code",
      "source": [
        "import opendatasets as od"
      ],
      "metadata": {
        "id": "ZkcXLqdecUxa"
      },
      "execution_count": null,
      "outputs": []
    },
    {
      "cell_type": "code",
      "source": [
        "\n",
        "od.download(\n",
        "    \"https://www.kaggle.com/datasets/vikramtiwari/mnist-numpy\")"
      ],
      "metadata": {
        "colab": {
          "base_uri": "https://localhost:8080/"
        },
        "id": "h1rONvOWZ9y8",
        "outputId": "cf3c932c-4106-48a4-f88a-8c732f51ddbe"
      },
      "execution_count": null,
      "outputs": [
        {
          "output_type": "stream",
          "name": "stdout",
          "text": [
            "Please provide your Kaggle credentials to download this dataset. Learn more: http://bit.ly/kaggle-creds\n",
            "Your Kaggle username: debangighosh\n",
            "Your Kaggle Key: ··········\n",
            "Downloading mnist-numpy.zip to ./mnist-numpy\n"
          ]
        },
        {
          "output_type": "stream",
          "name": "stderr",
          "text": [
            "100%|██████████| 11.0M/11.0M [00:00<00:00, 61.3MB/s]"
          ]
        },
        {
          "output_type": "stream",
          "name": "stdout",
          "text": [
            "\n"
          ]
        },
        {
          "output_type": "stream",
          "name": "stderr",
          "text": [
            "\n"
          ]
        }
      ]
    },
    {
      "cell_type": "code",
      "source": [
        "data = np.load('./mnist-numpy/mnist.npz')"
      ],
      "metadata": {
        "id": "A-yGVvOVaSti"
      },
      "execution_count": null,
      "outputs": []
    },
    {
      "cell_type": "code",
      "source": [
        "data"
      ],
      "metadata": {
        "colab": {
          "base_uri": "https://localhost:8080/"
        },
        "id": "hqWXMpOZcC2d",
        "outputId": "cc0bcb3d-70c0-45ae-9970-bc0fb367b6d8"
      },
      "execution_count": null,
      "outputs": [
        {
          "output_type": "execute_result",
          "data": {
            "text/plain": [
              "<numpy.lib.npyio.NpzFile at 0x7d6d760a88b0>"
            ]
          },
          "metadata": {},
          "execution_count": 7
        }
      ]
    },
    {
      "cell_type": "code",
      "source": [
        "X_train = data['x_train']\n",
        "y_train = data['y_train']\n",
        "X_test = data['x_test']\n",
        "y_test = data['y_test']\n",
        "\n",
        "\n",
        "# # Split the dataset into training and testing sets\n",
        "# X_train, X_val = X_train[:55000], X_train[55000:]\n",
        "# y_train, y_val = y_train[:55000], y_train[55000:]"
      ],
      "metadata": {
        "id": "PsPTIDBlauCN"
      },
      "execution_count": null,
      "outputs": []
    },
    {
      "cell_type": "code",
      "source": [
        "X_train[0].shape"
      ],
      "metadata": {
        "colab": {
          "base_uri": "https://localhost:8080/"
        },
        "id": "-Lg8KLrgdA8y",
        "outputId": "0eddac9c-69cd-4cb2-d4d7-235e37436388"
      },
      "execution_count": null,
      "outputs": [
        {
          "output_type": "execute_result",
          "data": {
            "text/plain": [
              "(28, 28)"
            ]
          },
          "metadata": {},
          "execution_count": 9
        }
      ]
    },
    {
      "cell_type": "code",
      "source": [
        "import matplotlib.pyplot as plt\n",
        "plt.figure(figsize=(10, 6))\n",
        "for i in range(9):\n",
        "  plt.subplot(3, 3, i + 1)\n",
        "  plt.imshow(X_train[i], cmap='gray')\n",
        "  plt.axis('off')\n",
        "  plt.title('Digit {}'.format(y_train[i]))\n",
        "plt.tight_layout()\n",
        "plt.show()\n",
        "\n",
        "# Reshape the data to have shape (num_images, height * width)\n",
        "X_train = X_train.reshape((X_train.shape[0], 28 * 28))\n",
        "X_test = X_test.reshape((X_test.shape[0], 28 * 28))\n"
      ],
      "metadata": {
        "colab": {
          "base_uri": "https://localhost:8080/",
          "height": 607
        },
        "id": "uMRlR0PIcWaY",
        "outputId": "0dc17864-61a8-4a2c-cb74-d8d0855b05af"
      },
      "execution_count": null,
      "outputs": [
        {
          "output_type": "display_data",
          "data": {
            "text/plain": [
              "<Figure size 1000x600 with 9 Axes>"
            ],
            "image/png": "[encoded data removed]"
          },
          "metadata": {}
        }
      ]
    },
    {
      "cell_type": "code",
      "source": [
        "X_train.shape[0]"
      ],
      "metadata": {
        "colab": {
          "base_uri": "https://localhost:8080/"
        },
        "id": "q1wm1RI4hLl4",
        "outputId": "d6391b87-b9d7-4ca5-c6f0-f362cce48cae"
      },
      "execution_count": null,
      "outputs": [
        {
          "output_type": "execute_result",
          "data": {
            "text/plain": [
              "60000"
            ]
          },
          "metadata": {},
          "execution_count": 11
        }
      ]
    },
    {
      "cell_type": "code",
      "source": [
        "import tensorflow as tf\n"
      ],
      "metadata": {
        "id": "RqBr7Wiim3Ft"
      },
      "execution_count": null,
      "outputs": []
    },
    {
      "cell_type": "code",
      "source": [
        "X_train = tf.convert_to_tensor(X_train)\n",
        "X_test = tf.convert_to_tensor(X_test)\n"
      ],
      "metadata": {
        "id": "LCCOCVoEh11e"
      },
      "execution_count": null,
      "outputs": []
    },
    {
      "cell_type": "code",
      "source": [
        "X_train = tf.reshape(X_train, [-1, 28, 28, 1])"
      ],
      "metadata": {
        "id": "_Zv32_-DHM4R"
      },
      "execution_count": null,
      "outputs": []
    },
    {
      "cell_type": "code",
      "source": [
        "X_train"
      ],
      "metadata": {
        "colab": {
          "base_uri": "https://localhost:8080/"
        },
        "id": "EBQKGMA2iH2o",
        "outputId": "f4e3861c-ef56-4fbc-bf9b-88b0e1f9969e"
      },
      "execution_count": null,
      "outputs": [
        {
          "output_type": "execute_result",
          "data": {
            "text/plain": [
              "<tf.Tensor: shape=(60000, 28, 28, 1), dtype=uint8, numpy=\n",
              "array([[[[0],\n",
              "         [0],\n",
              "         [0],\n",
              "         ...,\n",
              "         [0],\n",
              "         [0],\n",
              "         [0]],\n",
              "\n",
              "        [[0],\n",
              "         [0],\n",
              "         [0],\n",
              "         ...,\n",
              "         [0],\n",
              "         [0],\n",
              "         [0]],\n",
              "\n",
              "        [[0],\n",
              "         [0],\n",
              "         [0],\n",
              "         ...,\n",
              "         [0],\n",
              "         [0],\n",
              "         [0]],\n",
              "\n",
              "        ...,\n",
              "\n",
              "        [[0],\n",
              "         [0],\n",
              "         [0],\n",
              "         ...,\n",
              "         [0],\n",
              "         [0],\n",
              "         [0]],\n",
              "\n",
              "        [[0],\n",
              "         [0],\n",
              "         [0],\n",
              "         ...,\n",
              "         [0],\n",
              "         [0],\n",
              "         [0]],\n",
              "\n",
              "        [[0],\n",
              "         [0],\n",
              "         [0],\n",
              "         ...,\n",
              "         [0],\n",
              "         [0],\n",
              "         [0]]],\n",
              "\n",
              "\n",
              "       [[[0],\n",
              "         [0],\n",
              "         [0],\n",
              "         ...,\n",
              "         [0],\n",
              "         [0],\n",
              "         [0]],\n",
              "\n",
              "        [[0],\n",
              "         [0],\n",
              "         [0],\n",
              "         ...,\n",
              "         [0],\n",
              "         [0],\n",
              "         [0]],\n",
              "\n",
              "        [[0],\n",
              "         [0],\n",
              "         [0],\n",
              "         ...,\n",
              "         [0],\n",
              "         [0],\n",
              "         [0]],\n",
              "\n",
              "        ...,\n",
              "\n",
              "        [[0],\n",
              "         [0],\n",
              "         [0],\n",
              "         ...,\n",
              "         [0],\n",
              "         [0],\n",
              "         [0]],\n",
              "\n",
              "        [[0],\n",
              "         [0],\n",
              "         [0],\n",
              "         ...,\n",
              "         [0],\n",
              "         [0],\n",
              "         [0]],\n",
              "\n",
              "        [[0],\n",
              "         [0],\n",
              "         [0],\n",
              "         ...,\n",
              "         [0],\n",
              "         [0],\n",
              "         [0]]],\n",
              "\n",
              "\n",
              "       [[[0],\n",
              "         [0],\n",
              "         [0],\n",
              "         ...,\n",
              "         [0],\n",
              "         [0],\n",
              "         [0]],\n",
              "\n",
              "        [[0],\n",
              "         [0],\n",
              "         [0],\n",
              "         ...,\n",
              "         [0],\n",
              "         [0],\n",
              "         [0]],\n",
              "\n",
              "        [[0],\n",
              "         [0],\n",
              "         [0],\n",
              "         ...,\n",
              "         [0],\n",
              "         [0],\n",
              "         [0]],\n",
              "\n",
              "        ...,\n",
              "\n",
              "        [[0],\n",
              "         [0],\n",
              "         [0],\n",
              "         ...,\n",
              "         [0],\n",
              "         [0],\n",
              "         [0]],\n",
              "\n",
              "        [[0],\n",
              "         [0],\n",
              "         [0],\n",
              "         ...,\n",
              "         [0],\n",
              "         [0],\n",
              "         [0]],\n",
              "\n",
              "        [[0],\n",
              "         [0],\n",
              "         [0],\n",
              "         ...,\n",
              "         [0],\n",
              "         [0],\n",
              "         [0]]],\n",
              "\n",
              "\n",
              "       ...,\n",
              "\n",
              "\n",
              "       [[[0],\n",
              "         [0],\n",
              "         [0],\n",
              "         ...,\n",
              "         [0],\n",
              "         [0],\n",
              "         [0]],\n",
              "\n",
              "        [[0],\n",
              "         [0],\n",
              "         [0],\n",
              "         ...,\n",
              "         [0],\n",
              "         [0],\n",
              "         [0]],\n",
              "\n",
              "        [[0],\n",
              "         [0],\n",
              "         [0],\n",
              "         ...,\n",
              "         [0],\n",
              "         [0],\n",
              "         [0]],\n",
              "\n",
              "        ...,\n",
              "\n",
              "        [[0],\n",
              "         [0],\n",
              "         [0],\n",
              "         ...,\n",
              "         [0],\n",
              "         [0],\n",
              "         [0]],\n",
              "\n",
              "        [[0],\n",
              "         [0],\n",
              "         [0],\n",
              "         ...,\n",
              "         [0],\n",
              "         [0],\n",
              "         [0]],\n",
              "\n",
              "        [[0],\n",
              "         [0],\n",
              "         [0],\n",
              "         ...,\n",
              "         [0],\n",
              "         [0],\n",
              "         [0]]],\n",
              "\n",
              "\n",
              "       [[[0],\n",
              "         [0],\n",
              "         [0],\n",
              "         ...,\n",
              "         [0],\n",
              "         [0],\n",
              "         [0]],\n",
              "\n",
              "        [[0],\n",
              "         [0],\n",
              "         [0],\n",
              "         ...,\n",
              "         [0],\n",
              "         [0],\n",
              "         [0]],\n",
              "\n",
              "        [[0],\n",
              "         [0],\n",
              "         [0],\n",
              "         ...,\n",
              "         [0],\n",
              "         [0],\n",
              "         [0]],\n",
              "\n",
              "        ...,\n",
              "\n",
              "        [[0],\n",
              "         [0],\n",
              "         [0],\n",
              "         ...,\n",
              "         [0],\n",
              "         [0],\n",
              "         [0]],\n",
              "\n",
              "        [[0],\n",
              "         [0],\n",
              "         [0],\n",
              "         ...,\n",
              "         [0],\n",
              "         [0],\n",
              "         [0]],\n",
              "\n",
              "        [[0],\n",
              "         [0],\n",
              "         [0],\n",
              "         ...,\n",
              "         [0],\n",
              "         [0],\n",
              "         [0]]],\n",
              "\n",
              "\n",
              "       [[[0],\n",
              "         [0],\n",
              "         [0],\n",
              "         ...,\n",
              "         [0],\n",
              "         [0],\n",
              "         [0]],\n",
              "\n",
              "        [[0],\n",
              "         [0],\n",
              "         [0],\n",
              "         ...,\n",
              "         [0],\n",
              "         [0],\n",
              "         [0]],\n",
              "\n",
              "        [[0],\n",
              "         [0],\n",
              "         [0],\n",
              "         ...,\n",
              "         [0],\n",
              "         [0],\n",
              "         [0]],\n",
              "\n",
              "        ...,\n",
              "\n",
              "        [[0],\n",
              "         [0],\n",
              "         [0],\n",
              "         ...,\n",
              "         [0],\n",
              "         [0],\n",
              "         [0]],\n",
              "\n",
              "        [[0],\n",
              "         [0],\n",
              "         [0],\n",
              "         ...,\n",
              "         [0],\n",
              "         [0],\n",
              "         [0]],\n",
              "\n",
              "        [[0],\n",
              "         [0],\n",
              "         [0],\n",
              "         ...,\n",
              "         [0],\n",
              "         [0],\n",
              "         [0]]]], dtype=uint8)>"
            ]
          },
          "metadata": {},
          "execution_count": 15
        }
      ]
    },
    {
      "cell_type": "code",
      "source": [
        "import tensorflow as tf\n",
        "import tensorflow_datasets as tfds\n",
        "\n",
        "# Define the Focal Loss function\n",
        "def focal_loss(y_true, y_pred, gamma=2.0, alpha=0.25):\n",
        "    # Compute the binary cross-entropy loss\n",
        "    binary_cross_entropy = tf.losses.binary_crossentropy(y_true, y_pred, from_logits=False)\n",
        "\n",
        "    # Calculate the modulating factor\n",
        "    p_t = tf.math.exp(-binary_cross_entropy)\n",
        "    focal_loss = (alpha) * (1 - p_t) ** (gamma) * binary_cross_entropy\n",
        "\n",
        "    return focal_loss"
      ],
      "metadata": {
        "id": "kYDXUpYRdzTD"
      },
      "execution_count": null,
      "outputs": []
    },
    {
      "cell_type": "code",
      "source": [
        "# Load the MNIST dataset\n",
        "dataset = tf.data.Dataset.from_tensor_slices((X_train, y_train))\n",
        "\n",
        "# Apply the preprocessing transformations to the dataset\n",
        "dataset = dataset.map(lambda x, y: (tf.image.convert_image_dtype(x, tf.float32), tf.one_hot(y, depth=10)))\n",
        "\n",
        "# Shuffle, batch, and prefetch the dataset\n",
        "dataset = dataset.shuffle(buffer_size=60000).batch(64).prefetch(buffer_size=tf.data.AUTOTUNE)"
      ],
      "metadata": {
        "id": "DS3wbNVl_9JZ"
      },
      "execution_count": null,
      "outputs": []
    },
    {
      "cell_type": "code",
      "source": [
        "model = tf.keras.Sequential([\n",
        "    tf.keras.layers.Flatten(input_shape=(28, 28, 1)),\n",
        "    tf.keras.layers.Dense(128, activation='relu'),\n",
        "    tf.keras.layers.Dense(10, activation='softmax')\n",
        "])\n",
        "\n",
        "# Compiling the model with the Focal Loss\n",
        "model.compile(optimizer='adam', loss=focal_loss, metrics=['accuracy'])\n",
        "\n",
        "# Training the model\n",
        "history_prebuilt=model.fit(dataset, epochs=10)\n"
      ],
      "metadata": {
        "colab": {
          "base_uri": "https://localhost:8080/"
        },
        "id": "NN9t1q7TjTq-",
        "outputId": "468aa66b-d605-4fe2-be34-014f7614706b"
      },
      "execution_count": null,
      "outputs": [
        {
          "output_type": "stream",
          "name": "stdout",
          "text": [
            "Epoch 1/10\n",
            "938/938 [==============================] - 9s 6ms/step - loss: 0.0012 - accuracy: 0.8843\n",
            "Epoch 2/10\n",
            "938/938 [==============================] - 7s 5ms/step - loss: 3.9995e-04 - accuracy: 0.9425\n",
            "Epoch 3/10\n",
            "938/938 [==============================] - 8s 5ms/step - loss: 2.6446e-04 - accuracy: 0.9575\n",
            "Epoch 4/10\n",
            "938/938 [==============================] - 8s 6ms/step - loss: 1.9364e-04 - accuracy: 0.9658\n",
            "Epoch 5/10\n",
            "938/938 [==============================] - 7s 5ms/step - loss: 1.4986e-04 - accuracy: 0.9719\n",
            "Epoch 6/10\n",
            "938/938 [==============================] - 7s 5ms/step - loss: 1.1698e-04 - accuracy: 0.9770\n",
            "Epoch 7/10\n",
            "938/938 [==============================] - 8s 5ms/step - loss: 9.4236e-05 - accuracy: 0.9809\n",
            "Epoch 8/10\n",
            "938/938 [==============================] - 8s 6ms/step - loss: 7.5462e-05 - accuracy: 0.9844\n",
            "Epoch 9/10\n",
            "938/938 [==============================] - 7s 5ms/step - loss: 6.0452e-05 - accuracy: 0.9879\n",
            "Epoch 10/10\n",
            "938/938 [==============================] - 7s 5ms/step - loss: 4.9466e-05 - accuracy: 0.9899\n"
          ]
        }
      ]
    },
    {
      "cell_type": "code",
      "source": [
        "X_test = tf.reshape(X_test, [-1, 28, 28, 1])"
      ],
      "metadata": {
        "id": "st_GKogxGzN8"
      },
      "execution_count": null,
      "outputs": []
    },
    {
      "cell_type": "code",
      "source": [
        "# # Evaluating the model\n",
        "# mnist_test = tfds.load('mnist', split=\"test\", as_supervised=True)\n",
        "# mnist_test = mnist_test.map(lambda x, y: (tf.image.convert_image_dtype(x, tf.float32), tf.one_hot(y, depth=10)))\n",
        "# mnist_test = mnist_test.batch(64).prefetch(buffer_size=tf.data.AUTOTUNE)\n",
        "\n",
        "# Load the MNIST dataset from google for handwritten digits recognisition\n",
        "dataset_test = tf.data.Dataset.from_tensor_slices((X_test, y_test))\n",
        "\n",
        "# Apply the preprocessing transformations to the dataset\n",
        "dataset_test = dataset_test.map(lambda x, y: (tf.image.convert_image_dtype(x, tf.float32), tf.one_hot(y, depth=10)))\n",
        "\n",
        "# Shuffle, batch, and prefetch the dataset\n",
        "dataset_test = dataset_test.batch(64).prefetch(buffer_size=tf.data.AUTOTUNE)\n",
        "\n",
        "loss, accuracy = model.evaluate(dataset_test)\n",
        "print(f\"Test Loss: {loss}, Test Accuracy: {accuracy}\")\n",
        "if loss<0.1:\n",
        "  print(\"Loss is very low tending to 0 and so is a good fit to the model\")\n"
      ],
      "metadata": {
        "colab": {
          "base_uri": "https://localhost:8080/"
        },
        "id": "EOtN7s4OF4Hu",
        "outputId": "865d2058-2d4c-4a30-ff17-7835842f79e0"
      },
      "execution_count": null,
      "outputs": [
        {
          "output_type": "stream",
          "name": "stdout",
          "text": [
            "157/157 [==============================] - 1s 4ms/step - loss: 2.0939e-04 - accuracy: 0.9748\n",
            "Test Loss: 0.00020938832312822342, Test Accuracy: 0.9747999906539917\n",
            "Loss is very low tending to 0 and so is a good fit to the model\n"
          ]
        }
      ]
    },
    {
      "cell_type": "markdown",
      "source": [
        "## **Bringing up some changes to the focal loss function:**"
      ],
      "metadata": {
        "id": "tKWCCL4VIQCW"
      }
    },
    {
      "cell_type": "markdown",
      "source": [
        "# Changes:\n",
        "1.   **The factor k can be multiplied to give an weightage to binary cross entropy while calculating the modulating factor input which decreases the loss.**\n",
        "\n",
        "2.   **We can use gamma^n instead of gamma as increase in gamma can increase down-weighting such that the easy examples are down-weighted more than the hard ones.**\n",
        "\n",
        "3.  **We can additionally normalise the loss function by dividing it by the number of positive samples. This can help stabilize the loss during training.**\n",
        "\n",
        "4. **We can use dynamic value of alpha everytime with training examples based on if Y_pred>0.5 or <= 0.5**"
      ],
      "metadata": {
        "id": "Oz99itFYg3o_"
      }
    },
    {
      "cell_type": "code",
      "source": [
        "# Define the Focal Loss function\n",
        "def focal_lossnew(y_true, y_pred, gamma=2.0, alpha=0.25,k=15,n=2,epsilon=1e-7):\n",
        "    # Compute the binary cross-entropy loss\n",
        "    binary_cross_entropy = tf.losses.binary_crossentropy(y_true, y_pred, from_logits=False)\n",
        "\n",
        "    # Calculate the modulating factor\n",
        "    #p_t = tf.math.exp(-binary_cross_entropy)\n",
        "    p_t = tf.math.exp(k*(-binary_cross_entropy))\n",
        "    '''The factor k can be multiplied to give an weightage to\n",
        "    binary cross entropy input which increases the modulating factor.'''\n",
        "    #Modified focal loss\n",
        "    focal_loss = (alpha) * (1 - p_t) ** (gamma**n) * binary_cross_entropy\n",
        "    '''Original focal loss function can be modified\n",
        "    using these above changes'''\n",
        "\n",
        "    # We can additionally normalise the loss function for lowering the loss\n",
        "    #A method called regularization.\n",
        "    num_positive_samples = tf.reduce_sum(y_true) + epsilon\n",
        "    focal_loss = focal_loss / num_positive_samples\n",
        "\n",
        "    return focal_loss"
      ],
      "metadata": {
        "id": "50ASpiNsIcLW"
      },
      "execution_count": null,
      "outputs": []
    },
    {
      "cell_type": "code",
      "source": [
        "# Load the MNIST dataset from google for handwritten digits recognisition\n",
        "dataset = tf.data.Dataset.from_tensor_slices((X_train, y_train))\n",
        "\n",
        "# Apply the preprocessing transformations to the dataset\n",
        "dataset = dataset.map(lambda x, y: (tf.image.convert_image_dtype(x, tf.float32), tf.one_hot(y, depth=10)))\n",
        "\n",
        "# Shuffle, batch, and prefetch the dataset\n",
        "dataset = dataset.shuffle(buffer_size=60000).batch(64).prefetch(buffer_size=tf.data.AUTOTUNE)"
      ],
      "metadata": {
        "id": "CU4fNPXzJ3cb"
      },
      "execution_count": null,
      "outputs": []
    },
    {
      "cell_type": "code",
      "source": [
        "\n",
        "model = tf.keras.Sequential([\n",
        "    tf.keras.layers.Flatten(input_shape=(28, 28, 1)),\n",
        "    tf.keras.layers.Dense(256, activation='relu'),\n",
        "    tf.keras.layers.Dense(128, activation='relu'),\n",
        "    tf.keras.layers.Dense(10, activation='softmax')\n",
        "])\n",
        "\n",
        "# Compiling the model with the Focal Loss\n",
        "model.compile(optimizer='adam', loss=focal_lossnew, metrics=['accuracy'])\n",
        "\n",
        "# Training the model\n",
        "history_custom=model.fit(dataset, epochs=11)"
      ],
      "metadata": {
        "colab": {
          "base_uri": "https://localhost:8080/"
        },
        "id": "-cUD4j--KbZz",
        "outputId": "4673dc14-a0ba-4c28-97aa-7fad287969eb"
      },
      "execution_count": null,
      "outputs": [
        {
          "output_type": "stream",
          "name": "stdout",
          "text": [
            "Epoch 1/11\n",
            "938/938 [==============================] - 11s 7ms/step - loss: 1.5009e-04 - accuracy: 0.9160\n",
            "Epoch 2/11\n",
            "938/938 [==============================] - 10s 8ms/step - loss: 4.6599e-05 - accuracy: 0.9700\n",
            "Epoch 3/11\n",
            "938/938 [==============================] - 10s 8ms/step - loss: 3.0594e-05 - accuracy: 0.9804\n",
            "Epoch 4/11\n",
            "938/938 [==============================] - 10s 8ms/step - loss: 2.1246e-05 - accuracy: 0.9862\n",
            "Epoch 5/11\n",
            "938/938 [==============================] - 9s 7ms/step - loss: 1.6123e-05 - accuracy: 0.9894\n",
            "Epoch 6/11\n",
            "938/938 [==============================] - 9s 7ms/step - loss: 1.2817e-05 - accuracy: 0.9921\n",
            "Epoch 7/11\n",
            "938/938 [==============================] - 10s 8ms/step - loss: 9.9500e-06 - accuracy: 0.9937\n",
            "Epoch 8/11\n",
            "938/938 [==============================] - 10s 8ms/step - loss: 8.0458e-06 - accuracy: 0.9947\n",
            "Epoch 9/11\n",
            "938/938 [==============================] - 8s 7ms/step - loss: 6.2262e-06 - accuracy: 0.9961\n",
            "Epoch 10/11\n",
            "938/938 [==============================] - 9s 7ms/step - loss: 5.4542e-06 - accuracy: 0.9966\n",
            "Epoch 11/11\n",
            "938/938 [==============================] - 10s 7ms/step - loss: 4.3365e-06 - accuracy: 0.9975\n"
          ]
        }
      ]
    },
    {
      "cell_type": "code",
      "source": [
        "# # Evaluating the model\n",
        "# mnist_test = tfds.load('mnist', split=\"test\", as_supervised=True)\n",
        "# mnist_test = mnist_test.map(lambda x, y: (tf.image.convert_image_dtype(x, tf.float32), tf.one_hot(y, depth=10)))\n",
        "# mnist_test = mnist_test.batch(64).prefetch(buffer_size=tf.data.AUTOTUNE)\n",
        "\n",
        "# Load the MNIST dataset from google for handwritten digits recognisition\n",
        "dataset_test = tf.data.Dataset.from_tensor_slices((X_test, y_test))\n",
        "\n",
        "# Apply the preprocessing transformations to the dataset\n",
        "dataset_test = dataset_test.map(lambda x, y: (tf.image.convert_image_dtype(x, tf.float32), tf.one_hot(y, depth=10)))\n",
        "\n",
        "# Shuffle, batch, and prefetch the dataset\n",
        "dataset_test = dataset_test.batch(64).prefetch(buffer_size=tf.data.AUTOTUNE)\n",
        "\n",
        "loss, accuracy = model.evaluate(dataset_test)\n",
        "print(f\"Test Loss: {loss}, Test Accuracy: {accuracy}\")\n",
        "if loss<0.1:\n",
        "  print(\"Loss is very low tending to 0 and so is a good fit to the model\")"
      ],
      "metadata": {
        "colab": {
          "base_uri": "https://localhost:8080/"
        },
        "id": "Z-Ybqq35Km9N",
        "outputId": "52b08b21-3695-4d23-f9fb-b67ef768f4ce"
      },
      "execution_count": null,
      "outputs": [
        {
          "output_type": "stream",
          "name": "stdout",
          "text": [
            "157/157 [==============================] - 1s 5ms/step - loss: 3.1500e-05 - accuracy: 0.9810\n",
            "Test Loss: 3.1499628676101565e-05, Test Accuracy: 0.9810000061988831\n",
            "Loss is very low tending to 0 and so is a good fit to the model\n"
          ]
        }
      ]
    },
    {
      "cell_type": "code",
      "source": [
        "plt.plot(history_prebuilt.history['accuracy'])\n",
        "plt.plot(history_custom.history['accuracy'])\n",
        "plt.title('model accuracy')\n",
        "plt.ylabel('Accuracy')\n",
        "plt.xlabel('Epoch')\n",
        "plt.legend(['Original Focal Loss', 'Custom Focal Loss'], loc='lower right')\n",
        "plt.show()"
      ],
      "metadata": {
        "colab": {
          "base_uri": "https://localhost:8080/",
          "height": 472
        },
        "id": "-fRHlJI3OJwf",
        "outputId": "834300db-0c87-4463-dce4-38e1ac163e70"
      },
      "execution_count": null,
      "outputs": [
        {
          "output_type": "display_data",
          "data": {
            "text/plain": [
              "<Figure size 640x480 with 1 Axes>"
            ],
            "image/png": "[encoded data removed]"
          },
          "metadata": {}
        }
      ]
    },
    {
      "cell_type": "markdown",
      "source": [
        "## **USING THE ABOVE MODIFIED FOCAL LOSS FUNCTION WITH A DYNAMIC VALUE OF ALPHA**\n",
        "We could use a dynamic value of gamma even, but according to a research paper value of gamma close to 2 fits the best."
      ],
      "metadata": {
        "id": "mUPH6VGzK5Cd"
      }
    },
    {
      "cell_type": "code",
      "source": [
        "# Define the Focal Loss function\n",
        "def focal_lossnew2(y_true, y_pred, gamma=2.0, k=15,n=2,epsilon=1e-7):\n",
        "    # Compute the binary cross-entropy loss\n",
        "    binary_cross_entropy = tf.losses.binary_crossentropy(y_true, y_pred, from_logits=False)\n",
        "    #tf.debugging.assert_shapes([(y_true, [\"batch\", 10]), (y_pred, [\"batch\", 10])])\n",
        "    # Calculate the modulating factor\n",
        "    #p_t = tf.math.exp(-binary_cross_entropy)\n",
        "    p_t = tf.math.exp(k*(-binary_cross_entropy))\n",
        "\n",
        "    # Calculate dynamic alpha based on true labels\n",
        "    alpha = tf.where(y_true > 0.5, tf.ones_like(y_true) * 0.5, tf.ones_like(y_true) )\n",
        "    '''Choosing a dynamic alpha based on if y_true>0.5 it takes 0.5 value or takes value 1\n",
        "    By default tf.ones_like(y_true) returns 1; 0.5 value can be changed according to\n",
        "    convinience depending on what value we want to give to the y_true<0.5 examples'''\n",
        "\n",
        "\n",
        "    # Compute focal loss with dynamic alpha\n",
        "    focal_loss = (alpha) * (1 - p_t) ** (gamma**n) * binary_cross_entropy\n",
        "\n",
        "    # We can additionally normalise the loss function for better accuracy\n",
        "    num_positive_samples = tf.reduce_sum(y_true) + epsilon\n",
        "    focal_loss = focal_loss / num_positive_samples\n",
        "\n",
        "    return focal_loss\n"
      ],
      "metadata": {
        "id": "CRbYtW70FJse"
      },
      "execution_count": null,
      "outputs": []
    },
    {
      "cell_type": "code",
      "source": [
        "# Load the MNIST dataset from google for handwritten digits recognisition\n",
        "dataset = tf.data.Dataset.from_tensor_slices((X_train, y_train))\n",
        "\n",
        "# Apply the preprocessing transformations to the dataset\n",
        "dataset = dataset.map(lambda x, y: (tf.image.convert_image_dtype(x, tf.float32), tf.one_hot(y, depth=10)))\n",
        "\n",
        "# Shuffle, batch, and prefetch the dataset\n",
        "dataset = dataset.shuffle(buffer_size=60000).batch(64).prefetch(buffer_size=tf.data.AUTOTUNE)"
      ],
      "metadata": {
        "id": "PQNNa_PZJG8o"
      },
      "execution_count": null,
      "outputs": []
    },
    {
      "cell_type": "code",
      "source": [
        "\n",
        "model = tf.keras.Sequential([\n",
        "    tf.keras.layers.Flatten(input_shape=(28, 28, 1)),\n",
        "    tf.keras.layers.Dense(256, activation='relu'),\n",
        "    tf.keras.layers.Dense(128, activation='relu'),\n",
        "    tf.keras.layers.Dense(10, activation='softmax')\n",
        "])\n",
        "\n",
        "# Compiling the model with the Focal Loss\n",
        "model.compile(optimizer='adam', loss=focal_lossnew, metrics=['accuracy'])\n",
        "\n",
        "# Training the model\n",
        "history_custom2=model.fit(dataset, epochs=11)"
      ],
      "metadata": {
        "colab": {
          "base_uri": "https://localhost:8080/"
        },
        "id": "CpjzlYg0JlyE",
        "outputId": "d0c0ffa4-fa10-4749-a688-9b38ff9fb922"
      },
      "execution_count": null,
      "outputs": [
        {
          "output_type": "stream",
          "name": "stdout",
          "text": [
            "Epoch 1/11\n",
            "938/938 [==============================] - 15s 8ms/step - loss: 1.4814e-04 - accuracy: 0.9164\n",
            "Epoch 2/11\n",
            "938/938 [==============================] - 10s 7ms/step - loss: 4.5779e-05 - accuracy: 0.9703\n",
            "Epoch 3/11\n",
            "938/938 [==============================] - 11s 7ms/step - loss: 2.9710e-05 - accuracy: 0.9807\n",
            "Epoch 4/11\n",
            "938/938 [==============================] - 17s 14ms/step - loss: 2.0884e-05 - accuracy: 0.9864\n",
            "Epoch 5/11\n",
            "938/938 [==============================] - 11s 7ms/step - loss: 1.5177e-05 - accuracy: 0.9903\n",
            "Epoch 6/11\n",
            "938/938 [==============================] - 11s 7ms/step - loss: 1.2238e-05 - accuracy: 0.9916\n",
            "Epoch 7/11\n",
            "938/938 [==============================] - 10s 8ms/step - loss: 8.8528e-06 - accuracy: 0.9941\n",
            "Epoch 8/11\n",
            "938/938 [==============================] - 10s 8ms/step - loss: 7.5022e-06 - accuracy: 0.9954\n",
            "Epoch 9/11\n",
            "938/938 [==============================] - 9s 7ms/step - loss: 5.7767e-06 - accuracy: 0.9962\n",
            "Epoch 10/11\n",
            "938/938 [==============================] - 10s 7ms/step - loss: 5.4134e-06 - accuracy: 0.9967\n",
            "Epoch 11/11\n",
            "938/938 [==============================] - 10s 7ms/step - loss: 4.3612e-06 - accuracy: 0.9974\n"
          ]
        }
      ]
    },
    {
      "cell_type": "code",
      "source": [
        "# # Evaluating the model\n",
        "# mnist_test = tfds.load('mnist', split=\"test\", as_supervised=True)\n",
        "# mnist_test = mnist_test.map(lambda x, y: (tf.image.convert_image_dtype(x, tf.float32), tf.one_hot(y, depth=10)))\n",
        "# mnist_test = mnist_test.batch(64).prefetch(buffer_size=tf.data.AUTOTUNE)\n",
        "\n",
        "# Load the MNIST dataset from google for handwritten digits recognisition\n",
        "dataset_test = tf.data.Dataset.from_tensor_slices((X_test, y_test))\n",
        "\n",
        "# Apply the preprocessing transformations to the dataset\n",
        "dataset_test = dataset_test.map(lambda x, y: (tf.image.convert_image_dtype(x, tf.float32), tf.one_hot(y, depth=10)))\n",
        "\n",
        "# Shuffle, batch, and prefetch the dataset\n",
        "dataset_test = dataset_test.batch(64).prefetch(buffer_size=tf.data.AUTOTUNE)\n",
        "\n",
        "loss, accuracy = model.evaluate(dataset_test)\n",
        "print(f\"Test Loss: {loss}, Test Accuracy: {accuracy}\")\n",
        "if loss<0.1:\n",
        "  print(\"Loss is very low tending to 0 and so is a good fit to the model\")"
      ],
      "metadata": {
        "colab": {
          "base_uri": "https://localhost:8080/"
        },
        "id": "FdFKiW4PLyYy",
        "outputId": "afe83fef-8eba-417b-efcf-93ac718d6a13"
      },
      "execution_count": null,
      "outputs": [
        {
          "output_type": "stream",
          "name": "stdout",
          "text": [
            "157/157 [==============================] - 1s 5ms/step - loss: 4.6290e-05 - accuracy: 0.9739\n",
            "Test Loss: 4.628978422260843e-05, Test Accuracy: 0.9739000201225281\n",
            "Loss is very low tending to 0 and so is a good fit to the model\n"
          ]
        }
      ]
    },
    {
      "cell_type": "code",
      "source": [
        "plt.plot(history_prebuilt.history['accuracy'])\n",
        "plt.plot(history_custom2.history['accuracy'])\n",
        "plt.title('model accuracy')\n",
        "plt.ylabel('Accuracy')\n",
        "plt.xlabel('Epoch')\n",
        "plt.legend(['Original Focal Loss', 'Custom Focal Loss'], loc='lower right')\n",
        "plt.show()"
      ],
      "metadata": {
        "colab": {
          "base_uri": "https://localhost:8080/",
          "height": 472
        },
        "id": "LBu_Ra-6jPDg",
        "outputId": "5a0fc042-d949-4ec5-f256-9157b8de4fde"
      },
      "execution_count": null,
      "outputs": [
        {
          "output_type": "display_data",
          "data": {
            "text/plain": [
              "<Figure size 640x480 with 1 Axes>"
            ],
            "image/png": "[encoded data removed]"
          },
          "metadata": {}
        }
      ]
    },
    {
      "cell_type": "markdown",
      "source": [
        "## **THE OLD CODE USING TENSORFLOW DATASET DIRECTLY**"
      ],
      "metadata": {
        "id": "hkWqj7Y2MoWy"
      }
    },
    {
      "cell_type": "code",
      "execution_count": null,
      "metadata": {
        "colab": {
          "base_uri": "https://localhost:8080/"
        },
        "id": "SppsagWpVtBg",
        "outputId": "466fe655-34d4-476d-b72f-ca1c84f11717"
      },
      "outputs": [
        {
          "output_type": "stream",
          "name": "stdout",
          "text": [
            "Epoch 1/10\n",
            "938/938 [==============================] - 10s 5ms/step - loss: 0.0012 - accuracy: 0.8830\n",
            "Epoch 2/10\n",
            "938/938 [==============================] - 5s 3ms/step - loss: 4.0375e-04 - accuracy: 0.9430\n",
            "Epoch 3/10\n",
            "938/938 [==============================] - 5s 3ms/step - loss: 2.7062e-04 - accuracy: 0.9577\n",
            "Epoch 4/10\n",
            "938/938 [==============================] - 6s 4ms/step - loss: 2.0006e-04 - accuracy: 0.9664\n",
            "Epoch 5/10\n",
            "938/938 [==============================] - 6s 4ms/step - loss: 1.5252e-04 - accuracy: 0.9727\n",
            "Epoch 6/10\n",
            "938/938 [==============================] - 6s 4ms/step - loss: 1.1994e-04 - accuracy: 0.9776\n",
            "Epoch 7/10\n",
            "938/938 [==============================] - 8s 6ms/step - loss: 9.8416e-05 - accuracy: 0.9811\n",
            "Epoch 8/10\n",
            "938/938 [==============================] - 6s 4ms/step - loss: 7.7362e-05 - accuracy: 0.9844\n",
            "Epoch 9/10\n",
            "938/938 [==============================] - 5s 3ms/step - loss: 6.6187e-05 - accuracy: 0.9872\n",
            "Epoch 10/10\n",
            "938/938 [==============================] - 7s 5ms/step - loss: 5.3647e-05 - accuracy: 0.9894\n",
            "157/157 [==============================] - 1s 7ms/step - loss: 1.9619e-04 - accuracy: 0.9744\n",
            "Test Loss: 0.0001961861999006942, Test Accuracy: 0.974399983882904\n",
            "Loss is very low tending to 0 and so is a good fit to the model\n"
          ]
        }
      ],
      "source": [
        "#THE OLD CODE USING TENSORFLOW DATASET\n",
        "import tensorflow as tf\n",
        "import tensorflow_datasets as tfds\n",
        "\n",
        "# Define the Focal Loss function\n",
        "def focal_loss(y_true, y_pred, gamma=2.0, alpha=0.25):\n",
        "    # Compute the binary cross-entropy loss\n",
        "    binary_cross_entropy = tf.losses.binary_crossentropy(y_true, y_pred, from_logits=False)\n",
        "\n",
        "    # Calculate the modulating factor\n",
        "    p_t = tf.math.exp(-binary_cross_entropy)\n",
        "    #Taking a similiar function to e^-x i.e, (e^-2x)\n",
        "    #p_t = (tf.math.exp(2*(-binary_cross_entropy)))*(binary_cross_entropy)\n",
        "    focal_loss = (alpha) * (1 - p_t) ** (gamma) * binary_cross_entropy\n",
        "    #print(binary_cross_entropy)\n",
        "    return focal_loss\n",
        "\n",
        "# Load the MNIST dataset from go2ogle for handwritten digits recognisition\n",
        "mnist = tfds.load(\"mnist\", split=\"train\", as_supervised=True)\n",
        "mnist = mnist.map(lambda x, y: (tf.image.convert_image_dtype(x, tf.float32), tf.one_hot(y, depth=10)))\n",
        "mnist = mnist.shuffle(buffer_size=60000).batch(64).prefetch(buffer_size=tf.data.AUTOTUNE)\n",
        "\n",
        "# Define the model using relu activation function and softmax activation\n",
        "#Softmax activation is commonly used for the output layer in multi-class classification tasks.\n",
        "#Data set is digit recognisition\n",
        "model = tf.keras.Sequential([\n",
        "    tf.keras.layers.Flatten(input_shape=(28, 28, 1)),\n",
        "    tf.keras.layers.Dense(128, activation='relu'),\n",
        "    tf.keras.layers.Dense(10, activation='softmax')\n",
        "])\n",
        "\n",
        "# Compiling the model with the Focal Loss\n",
        "model.compile(optimizer='adam', loss=focal_loss, metrics=['accuracy'])\n",
        "\n",
        "# Training the model\n",
        "model.fit(mnist, epochs=10)\n",
        "\n",
        "# Evaluating the model\n",
        "mnist_test = tfds.load('mnist', split=\"test\", as_supervised=True)\n",
        "mnist_test = mnist_test.map(lambda x, y: (tf.image.convert_image_dtype(x, tf.float32), tf.one_hot(y, depth=10)))\n",
        "mnist_test = mnist_test.batch(64).prefetch(buffer_size=tf.data.AUTOTUNE)\n",
        "\n",
        "loss, accuracy = model.evaluate(mnist_test)\n",
        "print(f\"Test Loss: {loss}, Test Accuracy: {accuracy}\")\n",
        "if loss<0.1:\n",
        "  print(\"Loss is very low tending to 0 and so is a good fit to the model\")\n"
      ]
    },
    {
      "cell_type": "code",
      "source": [
        "mnist"
      ],
      "metadata": {
        "id": "wVZF0797W1JH",
        "colab": {
          "base_uri": "https://localhost:8080/"
        },
        "outputId": "8d2cb97f-7207-4359-9e88-2286cc33323a"
      },
      "execution_count": null,
      "outputs": [
        {
          "output_type": "execute_result",
          "data": {
            "text/plain": [
              "<_PrefetchDataset element_spec=(TensorSpec(shape=(None, 28, 28, 1), dtype=tf.float32, name=None), TensorSpec(shape=(None, 10), dtype=tf.float32, name=None))>"
            ]
          },
          "metadata": {},
          "execution_count": 42
        }
      ]
    },
    {
      "cell_type": "code",
      "source": [],
      "metadata": {
        "id": "UzD-AB20H9IB"
      },
      "execution_count": null,
      "outputs": []
    }
  ]
}